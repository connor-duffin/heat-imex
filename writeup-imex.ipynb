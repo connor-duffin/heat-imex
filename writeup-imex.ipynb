{
 "cells": [
  {
   "cell_type": "markdown",
   "metadata": {},
   "source": [
    "## Implicit-Explicit finite difference schemes for the advection-diffusion equation\n",
    "[Connor P. Duffin](connorpduffin.github.io), *The Unversity of Western Australia*.\n",
    "\n",
    "This is a brief description of a method of implementing an *implicit-explicit* (IMEX) finite difference scheme for the advection-diffusion equation. IMEX methods are used when we have two parts of a PDE that are individually suited to difference forms of finite differencing. In learning these methods, I found that there were not many well-documented implementations available for practitioners on the internet. Whilst not claiming to be well-documented, I hope this is able to help someone who is trying to learn this stuff for the first time. This document proceeds as follows. We start by presenting the details of IMEX schemes, before moving onto the advection-diffusion equation. We then derive the finite difference scheme of interest, and implement it in `Python`. We conclude with a presentation of the resulting output.\n",
    "\n",
    "### IMEX schemes\n",
    "Consider a (time-dependent) PDE of the form:\n",
    "\\begin{equation*}\n",
    "  u_t = f(u) + g(u)\n",
    "\\end{equation*}\n"
   ]
  },
  {
   "cell_type": "code",
   "execution_count": null,
   "metadata": {},
   "outputs": [],
   "source": []
  }
 ],
 "metadata": {
  "kernelspec": {
   "display_name": "Python 3",
   "language": "python",
   "name": "python3"
  },
  "language_info": {
   "codemirror_mode": {
    "name": "ipython",
    "version": 3
   },
   "file_extension": ".py",
   "mimetype": "text/x-python",
   "name": "python",
   "nbconvert_exporter": "python",
   "pygments_lexer": "ipython3",
   "version": "3.7.3"
  }
 },
 "nbformat": 4,
 "nbformat_minor": 2
}
